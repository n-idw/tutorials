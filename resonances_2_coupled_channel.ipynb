{
 "cells": [
  {
   "cell_type": "markdown",
   "id": "6d6885c2",
   "metadata": {},
   "source": [
    "# Resonances 2 - Coupled Channel Resonances\n",
    "---"
   ]
  }
 ],
 "metadata": {
  "kernelspec": {
   "display_name": "tutorial",
   "language": "python",
   "name": "python3"
  },
  "language_info": {
   "name": "python",
   "version": "3.11.12"
  }
 },
 "nbformat": 4,
 "nbformat_minor": 5
}
